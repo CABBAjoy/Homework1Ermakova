{
 "cells": [
  {
   "cell_type": "markdown",
   "id": "36211f75-a914-4073-ad42-65ac68002aec",
   "metadata": {},
   "source": [
    "# Домашнее задание 2\n",
    "\n",
    "## Оглавление\n",
    "\n",
    "- [Задание 1: Средние буквы в слове](#задание-1-средние-буквы-в-слове)\n",
    "- [Задание 2: Идеальные пары](#задание-2-идеальные-пары)"
   ]
  },
  {
   "cell_type": "markdown",
   "id": "231e83fd-f594-479a-81cb-8f43f29fec13",
   "metadata": {},
   "source": [
    "## Задание 1: Средние буквы в слове\n",
    "\n",
    "Написать код, который выводит:\n",
    "- среднюю букву, если число букв нечётное;\n",
    "- две средних буквы, если число букв чётное.\n",
    "\n",
    "Примеры:\n",
    "1. `word = 'test'` → `es`\n",
    "2. `word = 'testing'` → `t`"
   ]
  },
  {
   "cell_type": "code",
   "execution_count": 54,
   "id": "c3d8c316-3492-40e2-ad89-3384a3a7f27b",
   "metadata": {},
   "outputs": [
    {
     "name": "stdout",
     "output_type": "stream",
     "text": [
      "es\n",
      "t\n"
     ]
    }
   ],
   "source": [
    "def middle_characters(word: str) -> str:\n",
    "    length = len(word)\n",
    "    middle = length // 2\n",
    "\n",
    "    if length % 2 == 0:\n",
    "        # Длина четная - берем две средние буквы\n",
    "        return word[middle - 1: middle + 1]\n",
    "    else:\n",
    "        # Длина нечётная — берем одну среднюю букву\n",
    "        return word[middle]\n",
    "print(middle_characters('test'))    # es\n",
    "print(middle_characters('testing')) # t"
   ]
  },
  {
   "cell_type": "markdown",
   "id": "6ae36301-8269-4e77-9cae-f004f72bc8d9",
   "metadata": {},
   "source": [
    "## Задание 2: Идеальные пары\n",
    "\n",
    "Имеются два списка: юноши и девушки. Нужно:\n",
    "- отсортировать их по алфавиту,\n",
    "- познакомить попарно,\n",
    "- если списки разной длины — вывести предупреждение.\n",
    "\n",
    "Примеры:\n",
    "- Если списки равны по длине — выводим пары.\n",
    "- Если нет — пишем \"Внимание, кто-то может остаться без пары!\""
   ]
  },
  {
   "cell_type": "code",
   "execution_count": 87,
   "id": "a02d9e93-c5bc-42b9-b9d9-c0364d9f692d",
   "metadata": {},
   "outputs": [],
   "source": [
    "def match_couples (boys: list, girls: list) -> None:\n",
    "    # Проверяем: равны ли длины списков\n",
    "    if len(boys) != len(girls):\n",
    "        print(\"Внимание, кто-то может остаться без пары!\")\n",
    "        return\n",
    "        \n",
    "    # Сортируем списки по алфавиту\n",
    "    boys_sorted = sorted(boys)\n",
    "    girls_sorted = sorted(girls)\n",
    "\n",
    "    print(\"Идеальные пары:\")\n",
    "\n",
    "    # Проходим одновременно по обоим спискам с помощью zip\n",
    "    for boy, girl in zip(boys_sorted, girls_sorted):\n",
    "        print(f'{boy} и {girl}')"
   ]
  },
  {
   "cell_type": "code",
   "execution_count": 71,
   "id": "2eb8adcf-568c-414a-9220-6c43d59bea3b",
   "metadata": {},
   "outputs": [],
   "source": [
    "boys = ['Peter', 'Alex', 'John', 'Arthur', 'Richard']\n",
    "girls = ['Kate', 'Liza', 'Kira', 'Emma', 'Trisha']"
   ]
  },
  {
   "cell_type": "code",
   "execution_count": 89,
   "id": "ad0e2f39-837f-4a85-9380-c9621c320dac",
   "metadata": {},
   "outputs": [
    {
     "name": "stdout",
     "output_type": "stream",
     "text": [
      "Идеальные пары:\n",
      "Alex и Emma\n",
      "Arthur и Kate\n",
      "John и Kira\n",
      "Peter и Liza\n",
      "Richard и Trisha\n"
     ]
    }
   ],
   "source": [
    "match_couples(boys, girls)"
   ]
  },
  {
   "cell_type": "code",
   "execution_count": 95,
   "id": "1b6a7957-ab24-4790-8bdd-38842505c469",
   "metadata": {},
   "outputs": [
    {
     "name": "stdout",
     "output_type": "stream",
     "text": [
      "Внимание, кто-то может остаться без пары!\n"
     ]
    }
   ],
   "source": [
    "boys = ['Peter', 'Alex', 'John', 'Arthur', 'Richard', 'Michael']\n",
    "girls = ['Kate', 'Liza', 'Kira', 'Emma', 'Trisha']\n",
    "\n",
    "match_couples(boys, girls)"
   ]
  }
 ],
 "metadata": {
  "kernelspec": {
   "display_name": "Python [conda env:base] *",
   "language": "python",
   "name": "conda-base-py"
  },
  "language_info": {
   "codemirror_mode": {
    "name": "ipython",
    "version": 3
   },
   "file_extension": ".py",
   "mimetype": "text/x-python",
   "name": "python",
   "nbconvert_exporter": "python",
   "pygments_lexer": "ipython3",
   "version": "3.12.7"
  }
 },
 "nbformat": 4,
 "nbformat_minor": 5
}
