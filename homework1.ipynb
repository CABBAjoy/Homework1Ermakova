{
 "cells": [
  {
   "cell_type": "code",
   "execution_count": 1,
   "id": "c5b31964-e42c-48ce-b6a3-ca01e5abda77",
   "metadata": {},
   "outputs": [
    {
     "name": "stdout",
     "output_type": "stream",
     "text": [
      "Високосный год\n"
     ]
    }
   ],
   "source": [
    "# Вводим год\n",
    "year = 2020\n",
    "\n",
    "# Проверка на високосность по правилу\n",
    "if (year % 4 == 0 and year % 100 != 0) or (year % 400 == 0):\n",
    "    print(\"Високосный год\")\n",
    "else:\n",
    "    print(\"Обычный год\")\n",
    "    "
   ]
  },
  {
   "cell_type": "code",
   "execution_count": 7,
   "id": "12f0c8ff-2d91-43e5-a847-56c5ffc6f2f7",
   "metadata": {},
   "outputs": [
    {
     "name": "stdout",
     "output_type": "stream",
     "text": [
      "Счастливый билет\n"
     ]
    }
   ],
   "source": [
    "# Вводим номер билета\n",
    "number = 123321\n",
    "\n",
    "# Преобразуем число в строку, чтобы достать цифры\n",
    "num_str = str(number)\n",
    "\n",
    "# Проверка длины (на всякий случай)\n",
    "if len(num_str) == 6:\n",
    "    first_half = sum(int(digit) for digit in num_str[:3])\n",
    "    second_half = sum(int(digit) for digit in num_str[3:])\n",
    "    \n",
    "    if first_half == second_half:\n",
    "        print(\"Счастливый билет\")\n",
    "    else:\n",
    "        print(\"Несчастливый билет\")\n",
    "else:\n",
    "    print(\"Номер должен быть шестизначным\")"
   ]
  },
  {
   "cell_type": "code",
   "execution_count": null,
   "id": "3f79bbd6-0ce7-419d-80c6-d2238d53355e",
   "metadata": {},
   "outputs": [],
   "source": []
  }
 ],
 "metadata": {
  "kernelspec": {
   "display_name": "Python [conda env:base] *",
   "language": "python",
   "name": "conda-base-py"
  },
  "language_info": {
   "codemirror_mode": {
    "name": "ipython",
    "version": 3
   },
   "file_extension": ".py",
   "mimetype": "text/x-python",
   "name": "python",
   "nbconvert_exporter": "python",
   "pygments_lexer": "ipython3",
   "version": "3.12.7"
  }
 },
 "nbformat": 4,
 "nbformat_minor": 5
}
