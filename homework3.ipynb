{
 "cells": [
  {
   "cell_type": "markdown",
   "id": "29b36e4f-8eb7-4249-a27f-fa29e99017f0",
   "metadata": {},
   "source": [
    "# Домашнее задание 3\n",
    "## Тема: Управляющие конструкции и коллекции. Часть 2\n",
    "Автор: Ермакова Любовь\n"
   ]
  },
  {
   "cell_type": "markdown",
   "id": "b8544144-296d-4d0e-bb1e-db8775c4ac88",
   "metadata": {},
   "source": [
    "## Задание 1: Уникальные геометки пользователей\n",
    "\n",
    "Дана переменная — словарь, содержащий геометки для каждого пользователя.\n",
    "Нужно вывести множество всех уникальных геометок (без повторов).\n",
    "\n",
    "**Пример входных данных:**\n",
    "```python\n",
    "ids = {\n",
    "    'user1': [213, 213, 213, 15, 213],\n",
    "    'user2': [54, 54, 119, 119, 119],\n",
    "    'user3': [213, 98, 98, 35]\n",
    "}\n",
    "\n",
    "Ожидаемый результат: {98, 35, 15, 213, 54, 119}"
   ]
  },
  {
   "cell_type": "code",
   "execution_count": 22,
   "id": "d62cfe79-bc01-4085-ae62-b333c46a39e1",
   "metadata": {},
   "outputs": [
    {
     "name": "stdout",
     "output_type": "stream",
     "text": [
      "{98, 35, 15, 213, 54, 119}\n"
     ]
    }
   ],
   "source": [
    "\n",
    "# Исходные данные\n",
    "ids = {\n",
    "    'user1': [213, 213, 213, 15, 213],\n",
    "    'user2': [54, 54, 119, 119, 119],\n",
    "    'user3': [213, 98, 98, 35]\n",
    "}\n",
    "\n",
    "# Соберём все метки в один список\n",
    "all_geo = []\n",
    "for geo_list in ids.values():\n",
    "    all_geo += geo_list  # добавляем геометки всех пользователей\n",
    "\n",
    "# Преобразуем в множество для получения уникальных значений\n",
    "unique_geo = set(all_geo)\n",
    "\n",
    "# Вывод результата\n",
    "print(unique_geo)\n"
   ]
  },
  {
   "cell_type": "markdown",
   "id": "b8637ee1-05ad-49d7-8fd4-340630358ff1",
   "metadata": {},
   "source": [
    "## Задание 2: Распределение поисковых запросов по количеству слов\n",
    "\n",
    "Дана переменная, в которой хранится список поисковых запросов пользователя. \n",
    "Нужно написать программу, которая выведет на экран распределение количества слов в запросах в требуемом виде.\n"
   ]
  },
  {
   "cell_type": "code",
   "execution_count": 24,
   "id": "4c3088ef-3659-487c-a60b-75bbf1420199",
   "metadata": {},
   "outputs": [
    {
     "name": "stdout",
     "output_type": "stream",
     "text": [
      "3 слова: 57.14%\n",
      "2 слова: 42.86%\n"
     ]
    }
   ],
   "source": [
    "# Список запросов\n",
    "queries = [\n",
    "    'смотреть сериалы онлайн',\n",
    "    'новости спорта',\n",
    "    'афиша кино',\n",
    "    'курс доллара',\n",
    "    'сериалы этим летом',\n",
    "    'курс по питону',\n",
    "    'сериалы про спорт',\n",
    "]\n",
    "\n",
    "# Словарь для статистики\n",
    "word_count_stats = {}\n",
    "\n",
    "# Перебор с использованием enumerate (по теме 3)\n",
    "for i, query in enumerate(queries):\n",
    "    word_count = len(query.split())\n",
    "    if word_count in word_count_stats:\n",
    "        word_count_stats[word_count] += 1\n",
    "    else:\n",
    "        word_count_stats[word_count] = 1\n",
    "\n",
    "# Подсчёт общего количества запросов\n",
    "total_queries = len(queries)\n",
    "\n",
    "# Вывод результата\n",
    "for word_count, count in word_count_stats.items():\n",
    "    percentage = round((count / total_queries) * 100, 2)\n",
    "    print(f\"{word_count} слова: {percentage}%\")"
   ]
  }
 ],
 "metadata": {
  "kernelspec": {
   "display_name": "Python [conda env:base] *",
   "language": "python",
   "name": "conda-base-py"
  },
  "language_info": {
   "codemirror_mode": {
    "name": "ipython",
    "version": 3
   },
   "file_extension": ".py",
   "mimetype": "text/x-python",
   "name": "python",
   "nbconvert_exporter": "python",
   "pygments_lexer": "ipython3",
   "version": "3.12.7"
  }
 },
 "nbformat": 4,
 "nbformat_minor": 5
}
